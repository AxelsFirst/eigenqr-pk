{
 "cells": [
  {
   "cell_type": "code",
   "execution_count": 33,
   "metadata": {},
   "outputs": [
    {
     "data": {
      "text/plain": [
       "array([[0.96230319, 0.16364041, 0.0530243 , 0.88462826, 0.63514344],\n",
       "       [0.06947987, 0.78480205, 0.65791731, 0.25768022, 0.67799744],\n",
       "       [0.37798552, 0.29070409, 0.14992912, 0.18391217, 0.09931385],\n",
       "       [0.91395486, 0.83920924, 0.30035229, 0.49062191, 0.86758753],\n",
       "       [0.43426931, 0.21345637, 0.18349954, 0.0196731 , 0.40998225]])"
      ]
     },
     "execution_count": 33,
     "metadata": {},
     "output_type": "execute_result"
    }
   ],
   "source": [
    "from eigenqr.matrix import Matrix\n",
    "import numpy as np\n",
    "\n",
    "\n",
    "a = np.random.rand(5, 5)\n",
    "A = Matrix(a)\n",
    "a"
   ]
  },
  {
   "cell_type": "code",
   "execution_count": 34,
   "metadata": {},
   "outputs": [
    {
     "data": {
      "text/plain": [
       "array([[0., 0., 0., 0., 0.],\n",
       "       [0., 0., 0., 0., 0.],\n",
       "       [0., 0., 0., 0., 0.],\n",
       "       [0., 0., 0., 0., 0.],\n",
       "       [0., 0., 0., 0., 0.]])"
      ]
     },
     "execution_count": 34,
     "metadata": {},
     "output_type": "execute_result"
    }
   ],
   "source": [
    "(A-A.hessenberg_form()).matrix"
   ]
  },
  {
   "cell_type": "code",
   "execution_count": 35,
   "metadata": {},
   "outputs": [
    {
     "data": {
      "text/plain": [
       "0.2907040863089416"
      ]
     },
     "execution_count": 35,
     "metadata": {},
     "output_type": "execute_result"
    }
   ],
   "source": [
    "A.matrix[2, 1]"
   ]
  },
  {
   "cell_type": "code",
   "execution_count": null,
   "metadata": {},
   "outputs": [],
   "source": []
  }
 ],
 "metadata": {
  "kernelspec": {
   "display_name": "Python 3.9.7 ('base')",
   "language": "python",
   "name": "python3"
  },
  "language_info": {
   "codemirror_mode": {
    "name": "ipython",
    "version": 3
   },
   "file_extension": ".py",
   "mimetype": "text/x-python",
   "name": "python",
   "nbconvert_exporter": "python",
   "pygments_lexer": "ipython3",
   "version": "3.9.7"
  },
  "orig_nbformat": 4,
  "vscode": {
   "interpreter": {
    "hash": "72ac24291512820e5996c18da5c9f2be811266aac5e6eee36c2d35802924cae6"
   }
  }
 },
 "nbformat": 4,
 "nbformat_minor": 2
}
